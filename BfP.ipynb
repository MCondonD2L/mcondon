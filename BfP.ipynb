{
 "cells": [
  {
   "cell_type": "markdown",
   "metadata": {},
   "source": [
    "TeLO Notes on BfP\n",
    "\n",
    "1) which orgs are \"deployed\" / in the fold\n",
    "    a) which orgs 'committed' to any sort of roll-out\n",
    "    b) \"interested\" orgs\n",
    "2) how administered?\n",
    "    a) DELC?  (i.e. - should be a DELC contact for each org deployed)\n",
    "    b) HT (or OneRoster?)\n",
    "    c) Admin \"cycles\" (i.e. - frequency of tasks)\n",
    "    d) Account Life Cycle Management: principles and (best / OK) practices \n",
    "3) Task list for DELCs:\n",
    "    a) acct creation\n",
    "    b) acct relationship mgmt - and 'control' (exception mgmt - i.e.: parental relationship change mgmt)\n",
    "    c) ROLE mgmt - processes and practices and training\n",
    "    d) \"communication\" expectations (ministry <--> board <--> schools <--> parents/teachers/students\n",
    "4) show me the data"
   ]
  }
 ],
 "metadata": {
  "kernelspec": {
   "display_name": "",
   "name": ""
  },
  "language_info": {
   "name": ""
  }
 },
 "nbformat": 4,
 "nbformat_minor": 2
}
