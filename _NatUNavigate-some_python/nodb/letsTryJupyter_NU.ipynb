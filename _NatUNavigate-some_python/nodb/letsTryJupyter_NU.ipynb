{
 "cells": [
  {
   "cell_type": "code",
   "execution_count": 6,
   "metadata": {},
   "outputs": [
    {
     "name": "stdout",
     "output_type": "stream",
     "text": [
      "92.92s - pydevd: Sending message related to process being replaced timed-out after 5 seconds\n",
      "/Users/mcondon/Documents/GitHub/mcondon/_NatUNavigate-some_python/nodb\n",
      "98.22s - pydevd: Sending message related to process being replaced timed-out after 5 seconds\n",
      "total 48\n",
      "drwxr-xr-x  6 mcondon  staff    192 Jan 29 16:04 \u001b[34m.\u001b[m\u001b[m\n",
      "drwxr-xr-x  5 mcondon  staff    160 Jan 29 15:35 \u001b[34m..\u001b[m\u001b[m\n",
      "-rw-rw-r--  1 mcondon  staff  11357 Jan 29 15:29 LICENSE\n",
      "-rw-rw-r--  1 mcondon  staff    319 Jan 29 15:44 config.json\n",
      "-rw-r--r--  1 mcondon  staff   3840 Jan 29 16:06 letsTryJupyter_NU.ipynb\n",
      "-rw-rw-r--  1 mcondon  staff   3382 Jan 29 15:48 main.py\n",
      "103.55s - pydevd: Sending message related to process being replaced timed-out after 5 seconds\n",
      "{\n",
      "    \"bspace_url\": \"https://navigate.nu.edu/\",\n",
      "    \"client_id\": \"44cba9ea-efb0-4521-a91b-9f4ecdcc8942\",\n",
      "    \"client_secret\": \"IK73HpSsnarYjeWY9G1pxam_rX8oOaf9K4DvlhcuiYk\",\n",
      "    \"extract_location\": \"../../../../../_BDS4Clients/_NU_Nav/\",\n",
      "    \"refresh_token\": \"rt.us-east-1.naW_TPfUFB-ZQnbZB6StkS5hMRItlcT47eJpOxcewfA\"\n",
      "}\n"
     ]
    }
   ],
   "source": [
    "!pwd\n",
    "!ls -al\n",
    "!cat config.json"
   ]
  },
  {
   "cell_type": "code",
   "execution_count": 5,
   "metadata": {},
   "outputs": [
    {
     "ename": "SyntaxError",
     "evalue": "invalid syntax (1002672343.py, line 1)",
     "output_type": "error",
     "traceback": [
      "\u001b[0;36m  Cell \u001b[0;32mIn[5], line 1\u001b[0;36m\u001b[0m\n\u001b[0;31m    .main.py\u001b[0m\n\u001b[0m    ^\u001b[0m\n\u001b[0;31mSyntaxError\u001b[0m\u001b[0;31m:\u001b[0m invalid syntax\n"
     ]
    }
   ],
   "source": [
    "!main.py"
   ]
  },
  {
   "cell_type": "code",
   "execution_count": 14,
   "metadata": {},
   "outputs": [
    {
     "name": "stdout",
     "output_type": "stream",
     "text": [
      "total 40\n",
      "drwxr-xr-x@ 11 mcondon  staff   352 Jan 29 15:46 \u001b[34m.\u001b[m\u001b[m\n",
      "drwxr-xr-x@  5 mcondon  staff   160 Jul  4  2024 \u001b[34m..\u001b[m\u001b[m\n",
      "-rw-r--r--@  1 mcondon  staff  6148 Jan 29 15:35 .DS_Store\n",
      "drwxr-xr-x  11 mcondon  staff   352 Jan 29 15:46 \u001b[34m.conda\u001b[m\u001b[m\n",
      "drwxr-xr-x  16 mcondon  staff   512 Jan 29 15:48 \u001b[34m.git\u001b[m\u001b[m\n",
      "drwxr-xr-x   4 mcondon  staff   128 Jul  3  2024 \u001b[34m.ipynb_checkpoints\u001b[m\u001b[m\n",
      "-rw-r--r--   1 mcondon  staff  1377 Jul  3  2024 BfP.ipynb\n",
      "-rw-r--r--   1 mcondon  staff  1248 Jul  3  2024 Notes.md\n",
      "-rw-r--r--   1 mcondon  staff   183 Jan 29 15:21 README.md\n",
      "drwxr-xr-x   5 mcondon  staff   160 Jan 29 15:35 \u001b[34m_NatUNavigate-some_python\u001b[m\u001b[m\n",
      "drwxr-xr-x   5 mcondon  staff   160 Jan 29 15:28 \u001b[34mheadless\u001b[m\u001b[m\n"
     ]
    }
   ],
   "source": [
    "!ls -al"
   ]
  },
  {
   "cell_type": "code",
   "execution_count": 16,
   "metadata": {},
   "outputs": [
    {
     "name": "stdout",
     "output_type": "stream",
     "text": [
      "/Users/mcondon/Documents/GitHub/mcondon\n",
      "total 40\n",
      "drwxr-xr-x@ 11 mcondon  staff   352 Jan 29 15:46 \u001b[34m.\u001b[m\u001b[m\n",
      "drwxr-xr-x@  5 mcondon  staff   160 Jul  4  2024 \u001b[34m..\u001b[m\u001b[m\n",
      "-rw-r--r--@  1 mcondon  staff  6148 Jan 29 15:35 .DS_Store\n",
      "drwxr-xr-x  11 mcondon  staff   352 Jan 29 15:46 \u001b[34m.conda\u001b[m\u001b[m\n",
      "drwxr-xr-x  16 mcondon  staff   512 Jan 29 15:48 \u001b[34m.git\u001b[m\u001b[m\n",
      "drwxr-xr-x   4 mcondon  staff   128 Jul  3  2024 \u001b[34m.ipynb_checkpoints\u001b[m\u001b[m\n",
      "-rw-r--r--   1 mcondon  staff  1377 Jul  3  2024 BfP.ipynb\n",
      "-rw-r--r--   1 mcondon  staff  1248 Jul  3  2024 Notes.md\n",
      "-rw-r--r--   1 mcondon  staff   183 Jan 29 15:21 README.md\n",
      "drwxr-xr-x   5 mcondon  staff   160 Jan 29 15:35 \u001b[34m_NatUNavigate-some_python\u001b[m\u001b[m\n",
      "drwxr-xr-x   5 mcondon  staff   160 Jan 29 15:28 \u001b[34mheadless\u001b[m\u001b[m\n"
     ]
    }
   ],
   "source": [
    "!pwd\n",
    "\n",
    "!ls -al"
   ]
  }
 ],
 "metadata": {
  "kernelspec": {
   "display_name": "base",
   "language": "python",
   "name": "python3"
  },
  "language_info": {
   "codemirror_mode": {
    "name": "ipython",
    "version": 3
   },
   "file_extension": ".py",
   "mimetype": "text/x-python",
   "name": "python",
   "nbconvert_exporter": "python",
   "pygments_lexer": "ipython3",
   "version": "3.12.4"
  }
 },
 "nbformat": 4,
 "nbformat_minor": 2
}
